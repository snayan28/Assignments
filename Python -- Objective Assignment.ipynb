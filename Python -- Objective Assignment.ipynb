{
 "cells": [
  {
   "cell_type": "markdown",
   "metadata": {},
   "source": [
    "# PYTHON\n",
    "\n",
    "##                                                Objective Practise Questions"
   ]
  },
  {
   "cell_type": "markdown",
   "metadata": {},
   "source": [
    "Q1. How can we create an iterator object from a list?\n",
    "\n",
    "a) Bypassing the given list to the iter() function\n",
    "\n",
    "b) By using a for a loop.\n",
    "\n",
    "c) By using a while loop.\n",
    "\n",
    "d) You cannot create an iterable object"
   ]
  },
  {
   "cell_type": "markdown",
   "metadata": {},
   "source": [
    "Answer : b) By using a for a loop."
   ]
  },
  {
   "cell_type": "markdown",
   "metadata": {},
   "source": [
    "Q2. If the function contains at least of one “yield” statement, then it becomes ______ Choose one\n",
    "\n",
    "a) An iterable\n",
    "\n",
    "b) a generator function\n",
    "\n",
    "c) an anonymous function\n",
    "\n",
    "d) None of the above"
   ]
  },
  {
   "cell_type": "markdown",
   "metadata": {},
   "source": [
    "Answer : b) a generator function"
   ]
  },
  {
   "cell_type": "markdown",
   "metadata": {},
   "source": [
    "Q3. What is the output of the code?\n",
    "\n",
    "mylist = [1, 3, 6, 10]\n",
    "\n",
    "a = (x**2 for x in mylist)\n",
    "\n",
    "print(next(a), next(a))\n",
    "\n",
    "\n",
    "a) 1 3\n",
    "\n",
    "b) 1 9\n",
    "\n",
    "c) 1 9 36 100\n",
    "\n",
    "d) 1"
   ]
  },
  {
   "cell_type": "markdown",
   "metadata": {},
   "source": [
    "Answer : b) 1 9"
   ]
  },
  {
   "cell_type": "markdown",
   "metadata": {},
   "source": [
    "Q4. What are the criteria that must be met to create closure in Python?\n",
    "\n",
    "a) The program Must have the function inside the function.\n",
    "\n",
    "b) The nested function must refer to the value defined in the enclosing function.\n",
    "\n",
    "c) The enclosing function must return the nested\n",
    "\n",
    "d) All of the above."
   ]
  },
  {
   "cell_type": "markdown",
   "metadata": {},
   "source": [
    "Answer : d) All of the above."
   ]
  },
  {
   "cell_type": "markdown",
   "metadata": {},
   "source": [
    "Q5. What is the output of the code?\n",
    "\n",
    "1. def Foo(n):\n",
    "2. def multiplier(x): \n",
    "3. return x * n\n",
    "4. return multiplier\n",
    "5.\n",
    "6. a = Foo(5)\n",
    "7. b = Foo(5)\n",
    "8.\n",
    "9.\n",
    "\n",
    "print(a(b(2)))\n",
    "\n",
    "a) 25.\n",
    "\n",
    "b) 100\n",
    "\n",
    "c) 10\n",
    "\n",
    "d) 50"
   ]
  },
  {
   "cell_type": "markdown",
   "metadata": {},
   "source": [
    "Answer : 50"
   ]
  },
  {
   "cell_type": "markdown",
   "metadata": {},
   "source": [
    "Q6. What is the output of the code?\n",
    "\n",
    "1. def make_pretty(func):\n",
    "2. def inner():\n",
    "3. print(\"I got decorated\")\n",
    "4. func()\n",
    "5. return inner\n",
    "6. \n",
    "7. def ordinary():\n",
    "8. print(\"I am ordinary\") \n",
    "9. \n",
    "10. pretty = make_pretty(ordinary) \n",
    "11. pretty()\n",
    "\n",
    "a) I got decorated\n",
    "\n",
    "b) I am pretty\n",
    "\n",
    "c) I got decorated\n",
    "   I am ordinary\n",
    "\n",
    "d) I am ordinary \n",
    "   I got decorated"
   ]
  },
  {
   "cell_type": "markdown",
   "metadata": {},
   "source": [
    "Answer : d) I am ordinary \n",
    "\n",
    "            I got decorated"
   ]
  },
  {
   "cell_type": "markdown",
   "metadata": {},
   "source": [
    "Q7: What is the more pythonic way to use getters and setters?\n",
    "\n",
    "a) Decorators\n",
    "\n",
    "b) Generators.\n",
    "\n",
    "c) Iterators\n",
    "\n",
    "d) @property"
   ]
  },
  {
   "cell_type": "markdown",
   "metadata": {},
   "source": [
    "Answer : d) @property"
   ]
  },
  {
   "cell_type": "markdown",
   "metadata": {},
   "source": [
    "Q8. In Python, there is a built-in function property() that returns a property object. The property object has which of the methods?\n",
    "\n",
    "a) getter() and setter()\n",
    "\n",
    "b) getter(), setter() and delete()\n",
    "\n",
    "c) getter() and delete()\n",
    "\n",
    "d) setter() and delete()"
   ]
  },
  {
   "cell_type": "markdown",
   "metadata": {},
   "source": [
    "Answer : b) getter(), setter() and delete()"
   ]
  },
  {
   "cell_type": "markdown",
   "metadata": {},
   "source": [
    "Q9. Which of the following statement is true? \n",
    "\n",
    "a) You cannot chain multiple decorators in Python.\n",
    "\n",
    "b) Decorators don’t work with functions that take parameters.\n",
    "\n",
    "c) The @ symbol doesn’t have any use while using decorators.\n",
    "\n",
    "d) None of the above"
   ]
  },
  {
   "cell_type": "markdown",
   "metadata": {},
   "source": [
    "Answer : d) None of the above"
   ]
  },
  {
   "cell_type": "markdown",
   "metadata": {},
   "source": [
    "Q10. For the following codes, which of the following statements is true?\n",
    "\n",
    "1. def printHello():\n",
    "2. print(\"Hello\")\n",
    "3. a = printHello()\n",
    "\n",
    "a) Print Hello() is a function, and a is a variable. None of them are objects.\n",
    "\n",
    "b) Both printHello() and the reference to the same object.\n",
    "\n",
    "c) Print Hello() and the reference to different objects.\n",
    "\n",
    "d) Syntax error! You cannot assign function"
   ]
  },
  {
   "cell_type": "markdown",
   "metadata": {},
   "source": [
    "Answer : c) Print Hello() and the reference to different objects."
   ]
  },
  {
   "cell_type": "markdown",
   "metadata": {},
   "source": [
    "Q11. What is the output of the program?\n",
    "\n",
    "1. def outerFunction():\n",
    "2. global a \n",
    "3. a = 20\n",
    "4. def innerFunction():\n",
    "5. global a\n",
    "6. a = 30\n",
    "7. print('a =', a)\n",
    "8. a = 10\n",
    "9. outerFunction()\n",
    "10. print('a =', a)\n",
    "\n",
    "\n",
    "a) a = 10 a = 30\n",
    "\n",
    "b) a = 10\n",
    "\n",
    "c) a = 2\n",
    "\n",
    "d) a = 30"
   ]
  },
  {
   "cell_type": "markdown",
   "metadata": {},
   "source": [
    "Answer : c) a = 2"
   ]
  },
  {
   "cell_type": "markdown",
   "metadata": {},
   "source": [
    "Q12. Which of the following statements is true?\n",
    "\n",
    "a) A class is a blueprint for the object.\n",
    "\n",
    "b) You can only make the single object from the given class\n",
    "\n",
    "c) Both statements are true.\n",
    "\n",
    "d) Neither statement is true."
   ]
  },
  {
   "cell_type": "markdown",
   "metadata": {},
   "source": [
    "Answer : d) Neither statement is true."
   ]
  },
  {
   "cell_type": "markdown",
   "metadata": {},
   "source": [
    "Q13. What is the output of the code?\n",
    "\n",
    "1. class Foo:\n",
    "2. def printLine(self, line='Python'):\n",
    "3. print(line)\n",
    "4.\n",
    "5. o1 = Foo()\n",
    "6. o1.printLine('Java')\n",
    "\n",
    "a) Python\n",
    "\n",
    "b) Line\n",
    "\n",
    "c) Java\n",
    "\n",
    "d) Java \n",
    "  Python"
   ]
  },
  {
   "cell_type": "markdown",
   "metadata": {},
   "source": [
    "Answer : c) Java"
   ]
  },
  {
   "cell_type": "markdown",
   "metadata": {},
   "source": [
    "Q14. What is the function of the __init__() function in Python?\n",
    "\n",
    "a) Initialises the class for use.\n",
    "\n",
    "b) This function is called, when the new object is instantiated\n",
    "\n",
    "c) Initialises all the data attributes to zero when called\n",
    "\n",
    "d) None of the above."
   ]
  },
  {
   "cell_type": "markdown",
   "metadata": {},
   "source": [
    "Answer : d) None of the above."
   ]
  },
  {
   "cell_type": "markdown",
   "metadata": {},
   "source": [
    "Q15. What is the output of the code?\n",
    "\n",
    "1. class Point:\n",
    "2. def __init__(self, x = 0, y = 0):\n",
    "3. self.x = x+1 4. self.y = y+1\n",
    "5.\n",
    "6.p1 = Point()\n",
    "7. print(p1.x, p1.y)\n",
    "\n",
    "a) 0 0\n",
    "\n",
    "b) 1 1\n",
    "\n",
    "c) None None\n",
    "\n",
    "d) x y"
   ]
  },
  {
   "cell_type": "markdown",
   "metadata": {},
   "source": [
    "Answer : b) 1 1"
   ]
  },
  {
   "cell_type": "markdown",
   "metadata": {},
   "source": [
    "Q16. Which of the following code used the inheritance feature? \n",
    "\n",
    "a) \n",
    "1. Class Foo: \n",
    "    Pass \n",
    "    \n",
    "b) \n",
    "1. class Foo(object):\n",
    "2. pass \n",
    "3. class Hoo(object): \n",
    "   pass \n",
    "\n",
    "c) \n",
    "1. class Foo: \n",
    "2. pass \n",
    "3. class Hoo(Foo): \n",
    "   pass\n",
    "   \n",
    "d) None of the above code."
   ]
  },
  {
   "cell_type": "markdown",
   "metadata": {},
   "source": [
    "Answer :\n",
    "    \n",
    "c) \n",
    "1. class Foo: \n",
    "2. pass \n",
    "3. class Hoo(Foo):\n",
    "   pass"
   ]
  },
  {
   "cell_type": "markdown",
   "metadata": {},
   "source": [
    "Q17 If you a class is derived from two different classes, it’s called ______\n",
    "\n",
    "a) Multilevel inheritance\n",
    "\n",
    "b) Multiple Inheritance\n",
    "\n",
    "c) Hierarchical Inheritance\n",
    "\n",
    "d) Python Inheritance"
   ]
  },
  {
   "cell_type": "markdown",
   "metadata": {},
   "source": [
    "Answer : b) Multiple Inheritance"
   ]
  },
  {
   "cell_type": "markdown",
   "metadata": {},
   "source": [
    "Q18. Which of the following statements is true?\n",
    "\n",
    "a) In Python, the same operator may behave differently depends upon the operands.\n",
    "\n",
    "b) You can change the way operators which behave in Python.\n",
    "\n",
    "c) Special method __add()__ is called when + operator\n",
    "\n",
    "d) All of the above."
   ]
  },
  {
   "cell_type": "markdown",
   "metadata": {},
   "source": [
    "Answer : a) In Python, the same operator may behave differently depends upon the operands.\n"
   ]
  },
  {
   "cell_type": "markdown",
   "metadata": {},
   "source": [
    "Q19. What is the output of the code?\n",
    "\n",
    "1. class Point: \n",
    "2.\n",
    "3. def __init__(self, x = 0, y = 0):\n",
    "4. self.x = x \n",
    "5. self.y = y\n",
    "6. \n",
    "7. def __sub__(self, other): \n",
    "8. x = self.x + other.x \n",
    "9. y = self.y + other.y \n",
    "10. return Point(x,y) \n",
    "11. \n",
    "12. p1 = Point(3, 4) \n",
    "13. p2 = Point(1, 2) \n",
    "14. result = p1-p2 \n",
    "15. print(result.x, result.y)\n",
    "\n",
    "a) 2 2\n",
    "\n",
    "b) 4 6\n",
    "\n",
    "c) 0 0\n",
    "\n",
    "d) 1 1"
   ]
  },
  {
   "cell_type": "markdown",
   "metadata": {},
   "source": [
    "Answer : b) 4 6"
   ]
  },
  {
   "cell_type": "markdown",
   "metadata": {},
   "source": [
    "Q20. Opening a file in ‘a’ mode\n",
    "\n",
    "a) opens a file for reading\n",
    "\n",
    "b) opens a file for writing\n",
    "\n",
    "c) opens the file for appending, at the end of file\n",
    "\n",
    "d) opens a file for exclusive creation"
   ]
  },
  {
   "cell_type": "markdown",
   "metadata": {},
   "source": [
    "Answer: b) opens a file for writing"
   ]
  },
  {
   "cell_type": "markdown",
   "metadata": {},
   "source": [
    "Q21. What does the following code do?\n",
    "\n",
    "f = open(\"test.txt\")\n",
    "\n",
    "a) Opens test.txt file for both reading and writing\n",
    "\n",
    "b) Opens test.txt file for reading only\n",
    "\n",
    "c) Opens test.txt file for writing only\n",
    "\n",
    "d) Opens test.txt file in god mode"
   ]
  },
  {
   "cell_type": "markdown",
   "metadata": {},
   "source": [
    "Answer : b) Opens test.txt file for reading only"
   ]
  },
  {
   "cell_type": "markdown",
   "metadata": {},
   "source": [
    "Q22. Which of the codes closes files automatically if an exception occurs? \n",
    "Choose one\n",
    "\n",
    "a) 1. with open(\"test.txt\", encoding = 'utf-8') as f:\n",
    "   2. -- performfile operation\n",
    "\n",
    "b) 1. try:\n",
    "   2. f = open(\"test.txt\",encoding = 'utf-8')\n",
    "   3. -- perform file operations\n",
    "   4. finally:\n",
    "   5. f.close()\n",
    "   \n",
    "   \n",
    "c) None of the above\n",
    "\n",
    "d) Both of the above"
   ]
  },
  {
   "cell_type": "markdown",
   "metadata": {},
   "source": [
    "Answer : d) Both of the above"
   ]
  },
  {
   "cell_type": "markdown",
   "metadata": {},
   "source": [
    "Q23. For the following code,\n",
    "1. f = open('test.txt', 'r', encoding = 'utf-8') \n",
    "2. f.read()\n",
    "\n",
    "Which of the following statement is true\n",
    "\n",
    "a) This program reads the content of the test.txt file.\n",
    "\n",
    "b) If test.txt contains a newline, read() will return the newline as ‘\\n’.\n",
    "\n",
    "c) You can pass an integer to the read() method\n",
    "\n",
    "d) All of the above."
   ]
  },
  {
   "cell_type": "markdown",
   "metadata": {},
   "source": [
    "Answer : a) This program reads the content of the test.txt file."
   ]
  },
  {
   "cell_type": "markdown",
   "metadata": {},
   "source": [
    "Q24. What does the following code do? \n",
    "\n",
    "os.listdir()\n",
    "\n",
    "a) Prints the current working directory.\n",
    "\n",
    "b) Prints the current working directory.\n",
    "\n",
    "c) Prints all the directories and files inside the given directory\n",
    "\n",
    "d) Make a new directory"
   ]
  },
  {
   "cell_type": "markdown",
   "metadata": {},
   "source": [
    "Answer : c) Prints all the directories and files inside the given directory"
   ]
  },
  {
   "cell_type": "markdown",
   "metadata": {},
   "source": [
    "Q25. Which of the following is correct?\n",
    "\n",
    "a) An exception is an error that occurs in the runtime.\n",
    "\n",
    "b) A syntax error is also an exception.\n",
    "\n",
    "c) An exception is used to exclude a block of code in python.\n",
    "\n",
    "d) All of the above."
   ]
  },
  {
   "cell_type": "markdown",
   "metadata": {},
   "source": [
    "Answer : a) An exception is an error that occurs in the runtime."
   ]
  },
  {
   "cell_type": "markdown",
   "metadata": {},
   "source": [
    "Q26. What will happen if we try to open the file that doesn’t exist?\n",
    "\n",
    "a) A new file is created.\n",
    "\n",
    "b) Nothing will happen.\n",
    "\n",
    "c) An exception is raised.\n",
    "\n",
    "d) None of the above"
   ]
  },
  {
   "cell_type": "markdown",
   "metadata": {},
   "source": [
    "Answer : c) An exception is raised."
   ]
  },
  {
   "cell_type": "markdown",
   "metadata": {},
   "source": [
    "Q27. What is the output of the code?\n",
    "\n",
    "1. number = 5.0\n",
    "2. try:\n",
    "3. r = 10/number\n",
    "4. print(r)\n",
    "5. except:\n",
    "6. print(\"Oops! Error occurred.\")\n",
    "\n",
    "\n",
    "\n",
    "a) Oops! Error occurred\n",
    "\n",
    "b) 2.0\n",
    "\n",
    "c) 2.0 Oops! Error occurred.\n",
    "\n",
    "d) None object"
   ]
  },
  {
   "cell_type": "markdown",
   "metadata": {},
   "source": [
    "Answer: b) 2.0"
   ]
  },
  {
   "cell_type": "markdown",
   "metadata": {},
   "source": [
    "Q28. What does the following code do?\n",
    "\n",
    "1. try:\n",
    "2. --code that can raise an error \n",
    "3. pass \n",
    "4. \n",
    "5. except (TypeError, ZeroDivisionError): \n",
    "6. print(\"Two\")\n",
    "\n",
    "a) Prints Two if an exception occurs (doesn’t matter which exception).\n",
    "\n",
    "b) Prints Two if exception doesn’t occur.\n",
    "\n",
    "c) Prints Two if the TypeError or ZeroDivisionError exception occurs.\n",
    "\n",
    "d) Prints Two only if both TypeError and ZeroDivisionError exception occur."
   ]
  },
  {
   "cell_type": "markdown",
   "metadata": {},
   "source": [
    "Answer : c) Prints Two if the TypeError or ZeroDivisionError exception occurs."
   ]
  },
  {
   "cell_type": "markdown",
   "metadata": {},
   "source": [
    "Q29. Which of the following statement is true?\n",
    "\n",
    "a) You cannot create custom exceptions in Python.\n",
    "\n",
    "b) You can create the user-defined exception by deriving a class from Exception class.\n",
    "\n",
    "c) You can create a user-defined exception by deriving a class from Error class. \n",
    "\n",
    "d) None of the above."
   ]
  },
  {
   "cell_type": "markdown",
   "metadata": {},
   "source": [
    "Answer : b) You can create the user-defined exception by deriving a class from Exception class."
   ]
  },
  {
   "cell_type": "markdown",
   "metadata": {},
   "source": [
    "Q30. Which of the following statement is true?\n",
    "\n",
    "a) Functions are used to create objects in Python. \n",
    "\n",
    "b) Functions make your program run faster. \n",
    "\n",
    "c) The function is a piece of code that can perform a specific task.\n",
    "\n",
    "d) All of the above"
   ]
  },
  {
   "cell_type": "markdown",
   "metadata": {},
   "source": [
    "Answer : d) All of the above"
   ]
  },
  {
   "cell_type": "markdown",
   "metadata": {},
   "source": [
    "Q31. What is the output of the code?\n",
    "\n",
    "1. def printLine(text):\n",
    "2. print(text, 'is awesome.')\n",
    "3.\n",
    "4. printLine('Python')\n",
    "\n",
    "a) Python\n",
    "\n",
    "b) Python is awesome.\n",
    "\n",
    "c) Text is awesome.\n",
    "\n",
    "d) Is awesome."
   ]
  },
  {
   "cell_type": "markdown",
   "metadata": {},
   "source": [
    "Answer : b) Python is awesome."
   ]
  },
  {
   "cell_type": "markdown",
   "metadata": {},
   "source": [
    "Q32. If the return statement is not used inside the function, the function will return:\n",
    "\n",
    "a) 0 \n",
    "\n",
    "b) None object \n",
    "\n",
    "c) an arbitrary integer \n",
    "\n",
    "d) Error! Functions in Python must have a return statement."
   ]
  },
  {
   "cell_type": "markdown",
   "metadata": {},
   "source": [
    "Answer : b) None object"
   ]
  },
  {
   "cell_type": "markdown",
   "metadata": {},
   "source": [
    "Q33. What is the output of the code?\n",
    "\n",
    "1. def greetPerson(*name): \n",
    "2. print('Hello', name) \n",
    "3. \n",
    "4. greetPerson('Frodo', 'Sauron')\n",
    "\n",
    "\n",
    "a) Hello Frodo Hello Sauron\n",
    "\n",
    "b) Hello ('Frodo', 'Sauron') \n",
    "\n",
    "c) Hello Frodo \n",
    "\n",
    "d) Syntax Error! Great person() can take only one argument."
   ]
  },
  {
   "cell_type": "markdown",
   "metadata": {},
   "source": [
    "Answer : b) Hello ('Frodo', 'Sauron')"
   ]
  },
  {
   "cell_type": "code",
   "execution_count": null,
   "metadata": {},
   "outputs": [],
   "source": []
  }
 ],
 "metadata": {
  "kernelspec": {
   "display_name": "Python 3",
   "language": "python",
   "name": "python3"
  },
  "language_info": {
   "codemirror_mode": {
    "name": "ipython",
    "version": 3
   },
   "file_extension": ".py",
   "mimetype": "text/x-python",
   "name": "python",
   "nbconvert_exporter": "python",
   "pygments_lexer": "ipython3",
   "version": "3.7.4"
  }
 },
 "nbformat": 4,
 "nbformat_minor": 2
}
